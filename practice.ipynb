{
 "cells": [
  {
   "cell_type": "code",
   "execution_count": null,
   "metadata": {},
   "outputs": [],
   "source": [
    "import time\n",
    "from selenium import webdriver\n",
    "from selenium.webdriver.support.ui import WebDriverWait\n",
    "from selenium.webdriver.support import expected_conditions as EC"
   ]
  },
  {
   "cell_type": "markdown",
   "metadata": {},
   "source": [
    "# Login"
   ]
  },
  {
   "cell_type": "code",
   "execution_count": 19,
   "metadata": {},
   "outputs": [],
   "source": [
    "#opening the webdriver for chrome \n",
    "driver = webdriver.Chrome(executable_path = '/Users/shouryagupta/Downloads/chromedriver 4')\n",
    "#opening Instagram's webpage via Web Driver\n",
    "driver.get('https://www.instagram.com/')\n",
    "#providing a pause for 3 seconds to let the website load\n",
    "time.sleep(3)\n",
    "#fetching the element for entering the username\n",
    "username_tb = driver.find_element_by_name('username')\n",
    "#enter the username\n",
    "username_tb.send_keys('USERNAME')\n",
    "#fetching the element for entering the password\n",
    "password_tb = driver.find_element_by_name('password')\n",
    "#enter the password\n",
    "password_tb.send_keys('PASSWORD')\n",
    "#locating the login button\n",
    "log_in_btn = driver.find_element_by_tag_name('button')\n",
    "#clicking the log-in button\n",
    "log_in_btn.submit()"
   ]
  },
  {
   "cell_type": "markdown",
   "metadata": {},
   "source": [
    "# Searching"
   ]
  },
  {
   "cell_type": "code",
   "execution_count": 14,
   "metadata": {},
   "outputs": [],
   "source": [
    "#function for searching a query, with arguments, q as query to search and to_click as to click and open the result or not\n",
    "from selenium.webdriver.common.by import By\n",
    "from bs4 import BeautifulSoup as bsp\n",
    "\n",
    "def search_query(q, to_click):\n",
    "#fetching the search box\n",
    "    search_box = driver.find_element_by_class_name('TqC_a')\n",
    "#clicking the box to enter the query\n",
    "    search_box.click()\n",
    "#waiting for the visibility of the search button\n",
    "    search_btn = WebDriverWait(driver, 10).until(EC.visibility_of_element_located((By.XPATH, \"//input[contains(@class,'XTCLo')]\")))\n",
    "#clicking the search button\n",
    "    search_btn.click()\n",
    "#entering the query\n",
    "    search_btn.send_keys(q)\n",
    "#waiting till the dropdown opens and the option is present\n",
    "    smpl_btn = WebDriverWait(driver, 10).until(EC.presence_of_element_located((By.XPATH, \"//a[contains(@class, 'yCE8d')]\")))\n",
    "    if(to_click):\n",
    "#clicking to open the page of sodelhi\n",
    "        smpl_btn.click()"
   ]
  },
  {
   "cell_type": "markdown",
   "metadata": {},
   "source": [
    "## As an example, search for food"
   ]
  },
  {
   "cell_type": "code",
   "execution_count": 20,
   "metadata": {
    "scrolled": true
   },
   "outputs": [
    {
     "name": "stdout",
     "output_type": "stream",
     "text": [
      "foodzaara ,dillifoodexpress ,foodcoma.xvi ,desi_food_adda ,foodrush.recipe ,food_forever1011 ,food ,foodometer10 ,foodnetwork ,fruitsmealsandmore ,dilsefoodie ,2states_foodies ,dharti.ka.bhoj ,food_n_travel_click1501 ,thisisdelhi ,foodie_ranjan ,buzzforfood ,foodie_avengers77 ,food.quisite ,_food_foh_life_ ,food_100k ,food_hyped ,foodie_2024 ,food_of_hell ,food_junc ,_foodiee.soul_ ,food__in__my__belly ,buzzfeedfood ,foodwoody ,foodtalesbydeepikasodhi ,food.for.good_ ,rajshrifood ,food_for__life ,loveanyfood ,food_and_fun786 ,foodlovers.kp ,paradise.is.food ,food_o_graphy3112 ,my_food_scrapbook ,food_explorers_hooghly ,food_bloggerz2 ,foodmapdelhi ,hangouts.co.in ,__food_lovee_ ,foodscaptain ,foodiesehgal ,fooddeziress ,streetfoodrecipe ,hunger_mania_ ,foodieoreo ,zesty.cookbook ,"
     ]
    }
   ],
   "source": [
    "#searching for the query 'food' and not opening any specific query\n",
    "search_query(\"food\", False)\n",
    "#waiting for results to load\n",
    "time.sleep(3)\n",
    "#sending the current page's html content to parse and be ready for utilisation\n",
    "data = bsp(driver.page_source)\n",
    "#fetching all the search results\n",
    "ig_handle_data = data.find_all(class_ = 'Ap253')\n",
    "#a list to store all the handles\n",
    "ig_handles = []\n",
    "#filtering the #tags and the locations\n",
    "for i in ig_handle_data:\n",
    "    if'#' not in i.string.strip() and ' ' not in i.string.strip():\n",
    "        ig_handles.append(i.string)\n",
    "#printing the USERNAMES of the search results\n",
    "for i in ig_handles:\n",
    "    print(i, end = ' ,')\n",
    "#clearing the search tab for further use\n",
    "driver.find_element_by_xpath('//nav/div/div/div//div[starts-with(@class, \"aIYm8\")]').click()"
   ]
  },
  {
   "cell_type": "markdown",
   "metadata": {},
   "source": [
    "# Viewing an account"
   ]
  },
  {
   "cell_type": "code",
   "execution_count": null,
   "metadata": {},
   "outputs": [],
   "source": [
    "#searching and opening an instagram handle \n",
    "search_query('USERNAME TO BE SEARCHED', True)"
   ]
  },
  {
   "cell_type": "markdown",
   "metadata": {},
   "source": [
    "# Follow / Unfollow"
   ]
  },
  {
   "cell_type": "code",
   "execution_count": null,
   "metadata": {},
   "outputs": [],
   "source": [
    "def locate_btn():\n",
    "    #locating the follow/unfollow button\n",
    "    btn = driver.find_element_by_xpath('//section/div/div/span/span/button')\n",
    "    #clicking the button\n",
    "    btn.click()\n",
    "#clicking the follow button to follow\n",
    "locate_btn()\n",
    "print('Started following')"
   ]
  },
  {
   "cell_type": "code",
   "execution_count": null,
   "metadata": {},
   "outputs": [],
   "source": [
    "#clicking the button to see all available options\n",
    "locate_btn()\n",
    "#locating the unfollow button\n",
    "unfollow_btn = driver.find_element_by_xpath(\"//body/div/div/div/div/button\")\n",
    "#clicking the unfollow button\n",
    "unfollow_btn.click()\n",
    "print('Unfollowed')"
   ]
  },
  {
   "cell_type": "markdown",
   "metadata": {},
   "source": [
    "# Liking and Disliking post"
   ]
  },
  {
   "cell_type": "code",
   "execution_count": null,
   "metadata": {},
   "outputs": [],
   "source": [
    "#QUERY 5.1\n",
    "#searching and opening dilsefoodie\n",
    "search_query('USERNAME TO SEARCH FOR', True)\n",
    "time.sleep(2)\n",
    "#making a function to click the heart button (liking and disliking)\n",
    "def like_op():\n",
    "    #locating the button\n",
    "    like_btn = WebDriverWait(driver, 5).until(EC.presence_of_element_located((By.XPATH, \"//section/span/button\")))\n",
    "    #clicking the button\n",
    "    like_btn.click()\n",
    "    \n",
    "def react(num_post, ind):\n",
    "    for i in range(num_post):\n",
    "        #liking/disliking the posts\n",
    "        like_op()\n",
    "        #breaking as we dont have to go to 31st while going to next posts / beyond 1st post while coming back to 1 post\n",
    "        if(i == num_post-1):\n",
    "            break\n",
    "        #traversing to the next/prev post via next/prev button\n",
    "        next_btn = driver.find_elements_by_xpath(\"//body/div/div/div/div/a\")\n",
    "        #clicking the next/prev button \n",
    "        next_btn[ind].click()\n",
    "    \n",
    "#locating the element to view the first post and clicking to open it\n",
    "driver.find_element_by_class_name('_9AhH0').click()\n",
    "#liking the posts\n",
    "react(30, -1)\n",
    "print('Liked All 30 posts')\n",
    "#disliking the post but using previous button\n",
    "#react(31, 0)\n",
    "print('Disliked All 30 posts')"
   ]
  },
  {
   "cell_type": "markdown",
   "metadata": {},
   "source": [
    "# Followers"
   ]
  },
  {
   "cell_type": "code",
   "execution_count": null,
   "metadata": {},
   "outputs": [],
   "source": [
    "#a function to browse and collect the username of all the followers\n",
    "def fol(q):\n",
    "    #searching for the query and opening the result\n",
    "    search_query(q, True)\n",
    "    #buffer time\n",
    "    time.sleep(2)\n",
    "    #locating the follower button\n",
    "    follower_btn = driver.find_elements_by_class_name('Y8-fY ')[1]\n",
    "    # this particular piece of code is useful when the followers tab is displayed not along with profile photot but beneat it\n",
    "    #follower_btn = driver.find_element_by_xpath('//section/main/div/ul/li/a')\n",
    "    #clicking the follower button to list the followers\n",
    "    follower_btn.click()\n",
    "    #scrolling to display top 500 followers\n",
    "    #buffer time\n",
    "    time.sleep(2)\n",
    "    #scrolling the follow list\n",
    "    follow_list = driver.find_element_by_class_name('isgrP')\n",
    "    for i in range(100):\n",
    "        #buffer time\n",
    "        time.sleep(0.2)\n",
    "        driver.execute_script('arguments[0].scrollBy(0, 350);', follow_list)\n",
    "    #getting the html data of the page\n",
    "    data = bsp(driver.page_source)\n",
    "    #collecting only top 500 followers\n",
    "    usernames_list =[i.string for i in data.find_all(class_ ='d7ByH')][0:500]\n",
    "    #closing the followers list\n",
    "    driver.find_elements_by_class_name('WaOAr')[1].click()\n",
    "    #returning the list\n",
    "    return usernames_list"
   ]
  },
  {
   "cell_type": "code",
   "execution_count": null,
   "metadata": {},
   "outputs": [],
   "source": [
    "#getting the list of top 500 followers \n",
    "print(fol('foodtalkindia'))"
   ]
  },
  {
   "cell_type": "code",
   "execution_count": null,
   "metadata": {},
   "outputs": [],
   "source": [
    "#making a function to find all the followers of an account who you follow but those don't follow you\n",
    "def exceptions():\n",
    "    #searching and opening the profile of account\n",
    "    search_query('USERNAME TO CHECK', True)\n",
    "    #clicking the link to find the followers who you follow\n",
    "    driver.find_element_by_class_name('_32eiM').click()\n",
    "    #clicking to display the whole list of followers in which the ones who you follow are on the top\n",
    "    driver.find_element_by_xpath('//body//div[contains(@class, \"SfPzb\")]/a').click()\n",
    "    #fetching the html content of the webpage\n",
    "    data = bsp(driver.page_source)\n",
    "    #traversing the list of followers\n",
    "    for i in data.find(class_ = 'PZuss'):\n",
    "        #printing those usernames who you follow & they follow account but not you\n",
    "        if(i.div.contents[-1].string.strip() == 'Following' and i.div.contents[0].contents[1].div.a.string.strip() not in my_fol):\n",
    "            print(i.div.contents[0].contents[1].div.a.string.strip())\n",
    "    #closing the followers list\n",
    "    driver.find_elements_by_class_name('WaOAr')[1].click()\n",
    "#getting the usernames of all the users who follow you\n",
    "my_fol = fol('MY USERNAME')\n",
    "#getting usernames of all those followers of account who you follow but they dont follow you\n",
    "exceptions()"
   ]
  },
  {
   "cell_type": "markdown",
   "metadata": {},
   "source": [
    "# Viewing Stroy"
   ]
  },
  {
   "cell_type": "code",
   "execution_count": null,
   "metadata": {},
   "outputs": [],
   "source": [
    "search_query('USERNAME OF ACC', True)\n",
    "#fetching the html content of the page\n",
    "data = bsp(driver.page_source)\n",
    "#if the story is not viewed, then watching it\n",
    "if(data.canvas['height'] == '168'):\n",
    "    #locating the story button\n",
    "    story_btn = driver.find_element_by_class_name('XjzKX')\n",
    "    #clicking the story button\n",
    "    story_btn.click()\n",
    "    print('Story present, not seen')\n",
    "#if the story has been viewed\n",
    "elif(data.canvas['height'] == '166'):\n",
    "    print('Story Viewed')"
   ]
  }
 ],
 "metadata": {
  "kernelspec": {
   "display_name": "Python 3",
   "language": "python",
   "name": "python3"
  },
  "language_info": {
   "codemirror_mode": {
    "name": "ipython",
    "version": 3
   },
   "file_extension": ".py",
   "mimetype": "text/x-python",
   "name": "python",
   "nbconvert_exporter": "python",
   "pygments_lexer": "ipython3",
   "version": "3.7.6"
  }
 },
 "nbformat": 4,
 "nbformat_minor": 4
}
